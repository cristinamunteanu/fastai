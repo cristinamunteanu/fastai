{
  "nbformat": 4,
  "nbformat_minor": 0,
  "metadata": {
    "colab": {
      "provenance": [],
      "authorship_tag": "ABX9TyOuBKexkZf25cXpOuQ0gbQh",
      "include_colab_link": true
    },
    "kernelspec": {
      "name": "python3",
      "display_name": "Python 3"
    },
    "language_info": {
      "name": "python"
    },
    "widgets": {
      "application/vnd.jupyter.widget-state+json": {
        "2f541fdad8204983a1a1166583b7b708": {
          "model_module": "@jupyter-widgets/controls",
          "model_name": "FileUploadModel",
          "model_module_version": "1.5.0",
          "state": {
            "_counter": 0,
            "_dom_classes": [],
            "_model_module": "@jupyter-widgets/controls",
            "_model_module_version": "1.5.0",
            "_model_name": "FileUploadModel",
            "_view_count": null,
            "_view_module": "@jupyter-widgets/controls",
            "_view_module_version": "1.5.0",
            "_view_name": "FileUploadView",
            "accept": "",
            "button_style": "",
            "data": [],
            "description": "Upload",
            "description_tooltip": null,
            "disabled": false,
            "error": "",
            "icon": "upload",
            "layout": "IPY_MODEL_03952bb531c54f9c928ba2ef6aa46377",
            "metadata": [],
            "multiple": false,
            "style": "IPY_MODEL_39d8f952bd8f49449039445c09778c06"
          }
        },
        "03952bb531c54f9c928ba2ef6aa46377": {
          "model_module": "@jupyter-widgets/base",
          "model_name": "LayoutModel",
          "model_module_version": "1.2.0",
          "state": {
            "_model_module": "@jupyter-widgets/base",
            "_model_module_version": "1.2.0",
            "_model_name": "LayoutModel",
            "_view_count": null,
            "_view_module": "@jupyter-widgets/base",
            "_view_module_version": "1.2.0",
            "_view_name": "LayoutView",
            "align_content": null,
            "align_items": null,
            "align_self": null,
            "border": null,
            "bottom": null,
            "display": null,
            "flex": null,
            "flex_flow": null,
            "grid_area": null,
            "grid_auto_columns": null,
            "grid_auto_flow": null,
            "grid_auto_rows": null,
            "grid_column": null,
            "grid_gap": null,
            "grid_row": null,
            "grid_template_areas": null,
            "grid_template_columns": null,
            "grid_template_rows": null,
            "height": null,
            "justify_content": null,
            "justify_items": null,
            "left": null,
            "margin": null,
            "max_height": null,
            "max_width": null,
            "min_height": null,
            "min_width": null,
            "object_fit": null,
            "object_position": null,
            "order": null,
            "overflow": null,
            "overflow_x": null,
            "overflow_y": null,
            "padding": null,
            "right": null,
            "top": null,
            "visibility": null,
            "width": null
          }
        },
        "39d8f952bd8f49449039445c09778c06": {
          "model_module": "@jupyter-widgets/controls",
          "model_name": "ButtonStyleModel",
          "model_module_version": "1.5.0",
          "state": {
            "_model_module": "@jupyter-widgets/controls",
            "_model_module_version": "1.5.0",
            "_model_name": "ButtonStyleModel",
            "_view_count": null,
            "_view_module": "@jupyter-widgets/base",
            "_view_module_version": "1.2.0",
            "_view_name": "StyleView",
            "button_color": null,
            "font_weight": ""
          }
        },
        "5f572f30577a41d49f03c0bfe015c13e": {
          "model_module": "@jupyter-widgets/output",
          "model_name": "OutputModel",
          "model_module_version": "1.0.0",
          "state": {
            "_dom_classes": [],
            "_model_module": "@jupyter-widgets/output",
            "_model_module_version": "1.0.0",
            "_model_name": "OutputModel",
            "_view_count": null,
            "_view_module": "@jupyter-widgets/output",
            "_view_module_version": "1.0.0",
            "_view_name": "OutputView",
            "layout": "IPY_MODEL_d3c2e003f64141a78abd78263f665c0a",
            "msg_id": "",
            "outputs": [
              {
                "output_type": "display_data",
                "data": {
                  "text/plain": "<PIL.Image.Image image mode=RGB size=128x86>",
                  "image/png": "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\n"
                },
                "metadata": {}
              }
            ]
          }
        },
        "d3c2e003f64141a78abd78263f665c0a": {
          "model_module": "@jupyter-widgets/base",
          "model_name": "LayoutModel",
          "model_module_version": "1.2.0",
          "state": {
            "_model_module": "@jupyter-widgets/base",
            "_model_module_version": "1.2.0",
            "_model_name": "LayoutModel",
            "_view_count": null,
            "_view_module": "@jupyter-widgets/base",
            "_view_module_version": "1.2.0",
            "_view_name": "LayoutView",
            "align_content": null,
            "align_items": null,
            "align_self": null,
            "border": null,
            "bottom": null,
            "display": null,
            "flex": null,
            "flex_flow": null,
            "grid_area": null,
            "grid_auto_columns": null,
            "grid_auto_flow": null,
            "grid_auto_rows": null,
            "grid_column": null,
            "grid_gap": null,
            "grid_row": null,
            "grid_template_areas": null,
            "grid_template_columns": null,
            "grid_template_rows": null,
            "height": null,
            "justify_content": null,
            "justify_items": null,
            "left": null,
            "margin": null,
            "max_height": null,
            "max_width": null,
            "min_height": null,
            "min_width": null,
            "object_fit": null,
            "object_position": null,
            "order": null,
            "overflow": null,
            "overflow_x": null,
            "overflow_y": null,
            "padding": null,
            "right": null,
            "top": null,
            "visibility": null,
            "width": null
          }
        },
        "066e0b43674e4c108f92ae0ab4a6e5e6": {
          "model_module": "@jupyter-widgets/controls",
          "model_name": "LabelModel",
          "model_module_version": "1.5.0",
          "state": {
            "_dom_classes": [],
            "_model_module": "@jupyter-widgets/controls",
            "_model_module_version": "1.5.0",
            "_model_name": "LabelModel",
            "_view_count": null,
            "_view_module": "@jupyter-widgets/controls",
            "_view_module_version": "1.5.0",
            "_view_name": "LabelView",
            "description": "",
            "description_tooltip": null,
            "layout": "IPY_MODEL_687de8d9f8984a558cf218d883b4aa8f",
            "placeholder": "​",
            "style": "IPY_MODEL_fbce8cbbf833406f84194cb2e31b43a1",
            "value": "Prediction: grizzly; Probability: 0.9984"
          }
        },
        "687de8d9f8984a558cf218d883b4aa8f": {
          "model_module": "@jupyter-widgets/base",
          "model_name": "LayoutModel",
          "model_module_version": "1.2.0",
          "state": {
            "_model_module": "@jupyter-widgets/base",
            "_model_module_version": "1.2.0",
            "_model_name": "LayoutModel",
            "_view_count": null,
            "_view_module": "@jupyter-widgets/base",
            "_view_module_version": "1.2.0",
            "_view_name": "LayoutView",
            "align_content": null,
            "align_items": null,
            "align_self": null,
            "border": null,
            "bottom": null,
            "display": null,
            "flex": null,
            "flex_flow": null,
            "grid_area": null,
            "grid_auto_columns": null,
            "grid_auto_flow": null,
            "grid_auto_rows": null,
            "grid_column": null,
            "grid_gap": null,
            "grid_row": null,
            "grid_template_areas": null,
            "grid_template_columns": null,
            "grid_template_rows": null,
            "height": null,
            "justify_content": null,
            "justify_items": null,
            "left": null,
            "margin": null,
            "max_height": null,
            "max_width": null,
            "min_height": null,
            "min_width": null,
            "object_fit": null,
            "object_position": null,
            "order": null,
            "overflow": null,
            "overflow_x": null,
            "overflow_y": null,
            "padding": null,
            "right": null,
            "top": null,
            "visibility": null,
            "width": null
          }
        },
        "fbce8cbbf833406f84194cb2e31b43a1": {
          "model_module": "@jupyter-widgets/controls",
          "model_name": "DescriptionStyleModel",
          "model_module_version": "1.5.0",
          "state": {
            "_model_module": "@jupyter-widgets/controls",
            "_model_module_version": "1.5.0",
            "_model_name": "DescriptionStyleModel",
            "_view_count": null,
            "_view_module": "@jupyter-widgets/base",
            "_view_module_version": "1.2.0",
            "_view_name": "StyleView",
            "description_width": ""
          }
        },
        "0c88ff57c45e45aa88ca1c07426e041e": {
          "model_module": "@jupyter-widgets/controls",
          "model_name": "ButtonModel",
          "model_module_version": "1.5.0",
          "state": {
            "_dom_classes": [],
            "_model_module": "@jupyter-widgets/controls",
            "_model_module_version": "1.5.0",
            "_model_name": "ButtonModel",
            "_view_count": null,
            "_view_module": "@jupyter-widgets/controls",
            "_view_module_version": "1.5.0",
            "_view_name": "ButtonView",
            "button_style": "",
            "description": "Classify",
            "disabled": false,
            "icon": "",
            "layout": "IPY_MODEL_65510b54002e48e7a3a3a5d17085863d",
            "style": "IPY_MODEL_f781bb5052bb4658bd42c9809c51e87a",
            "tooltip": ""
          }
        },
        "65510b54002e48e7a3a3a5d17085863d": {
          "model_module": "@jupyter-widgets/base",
          "model_name": "LayoutModel",
          "model_module_version": "1.2.0",
          "state": {
            "_model_module": "@jupyter-widgets/base",
            "_model_module_version": "1.2.0",
            "_model_name": "LayoutModel",
            "_view_count": null,
            "_view_module": "@jupyter-widgets/base",
            "_view_module_version": "1.2.0",
            "_view_name": "LayoutView",
            "align_content": null,
            "align_items": null,
            "align_self": null,
            "border": null,
            "bottom": null,
            "display": null,
            "flex": null,
            "flex_flow": null,
            "grid_area": null,
            "grid_auto_columns": null,
            "grid_auto_flow": null,
            "grid_auto_rows": null,
            "grid_column": null,
            "grid_gap": null,
            "grid_row": null,
            "grid_template_areas": null,
            "grid_template_columns": null,
            "grid_template_rows": null,
            "height": null,
            "justify_content": null,
            "justify_items": null,
            "left": null,
            "margin": null,
            "max_height": null,
            "max_width": null,
            "min_height": null,
            "min_width": null,
            "object_fit": null,
            "object_position": null,
            "order": null,
            "overflow": null,
            "overflow_x": null,
            "overflow_y": null,
            "padding": null,
            "right": null,
            "top": null,
            "visibility": null,
            "width": null
          }
        },
        "f781bb5052bb4658bd42c9809c51e87a": {
          "model_module": "@jupyter-widgets/controls",
          "model_name": "ButtonStyleModel",
          "model_module_version": "1.5.0",
          "state": {
            "_model_module": "@jupyter-widgets/controls",
            "_model_module_version": "1.5.0",
            "_model_name": "ButtonStyleModel",
            "_view_count": null,
            "_view_module": "@jupyter-widgets/base",
            "_view_module_version": "1.2.0",
            "_view_name": "StyleView",
            "button_color": null,
            "font_weight": ""
          }
        },
        "9633dde0808149c49046e265a1d196bb": {
          "model_module": "@jupyter-widgets/controls",
          "model_name": "VBoxModel",
          "model_module_version": "1.5.0",
          "state": {
            "_dom_classes": [],
            "_model_module": "@jupyter-widgets/controls",
            "_model_module_version": "1.5.0",
            "_model_name": "VBoxModel",
            "_view_count": null,
            "_view_module": "@jupyter-widgets/controls",
            "_view_module_version": "1.5.0",
            "_view_name": "VBoxView",
            "box_style": "",
            "children": [
              "IPY_MODEL_cb6a395cdc1c4d339327b06e8e879b3c",
              "IPY_MODEL_896b37b8774e475886e0dfad8c10efa3",
              "IPY_MODEL_0c88ff57c45e45aa88ca1c07426e041e",
              "IPY_MODEL_5f572f30577a41d49f03c0bfe015c13e",
              "IPY_MODEL_066e0b43674e4c108f92ae0ab4a6e5e6"
            ],
            "layout": "IPY_MODEL_aec29dd673b24793ba2bde8677011276"
          }
        },
        "cb6a395cdc1c4d339327b06e8e879b3c": {
          "model_module": "@jupyter-widgets/controls",
          "model_name": "LabelModel",
          "model_module_version": "1.5.0",
          "state": {
            "_dom_classes": [],
            "_model_module": "@jupyter-widgets/controls",
            "_model_module_version": "1.5.0",
            "_model_name": "LabelModel",
            "_view_count": null,
            "_view_module": "@jupyter-widgets/controls",
            "_view_module_version": "1.5.0",
            "_view_name": "LabelView",
            "description": "",
            "description_tooltip": null,
            "layout": "IPY_MODEL_13451d71510c4d1799259cf5628d53e2",
            "placeholder": "​",
            "style": "IPY_MODEL_81e32b3aae2941e6a52fd898c452c093",
            "value": "Select your bear!"
          }
        },
        "896b37b8774e475886e0dfad8c10efa3": {
          "model_module": "@jupyter-widgets/controls",
          "model_name": "FileUploadModel",
          "model_module_version": "1.5.0",
          "state": {
            "_counter": 1,
            "_dom_classes": [],
            "_model_module": "@jupyter-widgets/controls",
            "_model_module_version": "1.5.0",
            "_model_name": "FileUploadModel",
            "_view_count": null,
            "_view_module": "@jupyter-widgets/controls",
            "_view_module_version": "1.5.0",
            "_view_name": "FileUploadView",
            "accept": "",
            "button_style": "",
            "data": [
              null
            ],
            "description": "Upload",
            "description_tooltip": null,
            "disabled": false,
            "error": "",
            "icon": "upload",
            "layout": "IPY_MODEL_01d701d63a4747f3a47a239a932a08f1",
            "metadata": [
              {
                "name": "2010-kodiak-bear-1.jpg",
                "type": "image/jpeg",
                "size": 12734,
                "lastModified": 1688526558306
              }
            ],
            "multiple": false,
            "style": "IPY_MODEL_bb4ecab82ed845ed8d6a228a7f8e3de4"
          }
        },
        "aec29dd673b24793ba2bde8677011276": {
          "model_module": "@jupyter-widgets/base",
          "model_name": "LayoutModel",
          "model_module_version": "1.2.0",
          "state": {
            "_model_module": "@jupyter-widgets/base",
            "_model_module_version": "1.2.0",
            "_model_name": "LayoutModel",
            "_view_count": null,
            "_view_module": "@jupyter-widgets/base",
            "_view_module_version": "1.2.0",
            "_view_name": "LayoutView",
            "align_content": null,
            "align_items": null,
            "align_self": null,
            "border": null,
            "bottom": null,
            "display": null,
            "flex": null,
            "flex_flow": null,
            "grid_area": null,
            "grid_auto_columns": null,
            "grid_auto_flow": null,
            "grid_auto_rows": null,
            "grid_column": null,
            "grid_gap": null,
            "grid_row": null,
            "grid_template_areas": null,
            "grid_template_columns": null,
            "grid_template_rows": null,
            "height": null,
            "justify_content": null,
            "justify_items": null,
            "left": null,
            "margin": null,
            "max_height": null,
            "max_width": null,
            "min_height": null,
            "min_width": null,
            "object_fit": null,
            "object_position": null,
            "order": null,
            "overflow": null,
            "overflow_x": null,
            "overflow_y": null,
            "padding": null,
            "right": null,
            "top": null,
            "visibility": null,
            "width": null
          }
        },
        "13451d71510c4d1799259cf5628d53e2": {
          "model_module": "@jupyter-widgets/base",
          "model_name": "LayoutModel",
          "model_module_version": "1.2.0",
          "state": {
            "_model_module": "@jupyter-widgets/base",
            "_model_module_version": "1.2.0",
            "_model_name": "LayoutModel",
            "_view_count": null,
            "_view_module": "@jupyter-widgets/base",
            "_view_module_version": "1.2.0",
            "_view_name": "LayoutView",
            "align_content": null,
            "align_items": null,
            "align_self": null,
            "border": null,
            "bottom": null,
            "display": null,
            "flex": null,
            "flex_flow": null,
            "grid_area": null,
            "grid_auto_columns": null,
            "grid_auto_flow": null,
            "grid_auto_rows": null,
            "grid_column": null,
            "grid_gap": null,
            "grid_row": null,
            "grid_template_areas": null,
            "grid_template_columns": null,
            "grid_template_rows": null,
            "height": null,
            "justify_content": null,
            "justify_items": null,
            "left": null,
            "margin": null,
            "max_height": null,
            "max_width": null,
            "min_height": null,
            "min_width": null,
            "object_fit": null,
            "object_position": null,
            "order": null,
            "overflow": null,
            "overflow_x": null,
            "overflow_y": null,
            "padding": null,
            "right": null,
            "top": null,
            "visibility": null,
            "width": null
          }
        },
        "81e32b3aae2941e6a52fd898c452c093": {
          "model_module": "@jupyter-widgets/controls",
          "model_name": "DescriptionStyleModel",
          "model_module_version": "1.5.0",
          "state": {
            "_model_module": "@jupyter-widgets/controls",
            "_model_module_version": "1.5.0",
            "_model_name": "DescriptionStyleModel",
            "_view_count": null,
            "_view_module": "@jupyter-widgets/base",
            "_view_module_version": "1.2.0",
            "_view_name": "StyleView",
            "description_width": ""
          }
        },
        "01d701d63a4747f3a47a239a932a08f1": {
          "model_module": "@jupyter-widgets/base",
          "model_name": "LayoutModel",
          "model_module_version": "1.2.0",
          "state": {
            "_model_module": "@jupyter-widgets/base",
            "_model_module_version": "1.2.0",
            "_model_name": "LayoutModel",
            "_view_count": null,
            "_view_module": "@jupyter-widgets/base",
            "_view_module_version": "1.2.0",
            "_view_name": "LayoutView",
            "align_content": null,
            "align_items": null,
            "align_self": null,
            "border": null,
            "bottom": null,
            "display": null,
            "flex": null,
            "flex_flow": null,
            "grid_area": null,
            "grid_auto_columns": null,
            "grid_auto_flow": null,
            "grid_auto_rows": null,
            "grid_column": null,
            "grid_gap": null,
            "grid_row": null,
            "grid_template_areas": null,
            "grid_template_columns": null,
            "grid_template_rows": null,
            "height": null,
            "justify_content": null,
            "justify_items": null,
            "left": null,
            "margin": null,
            "max_height": null,
            "max_width": null,
            "min_height": null,
            "min_width": null,
            "object_fit": null,
            "object_position": null,
            "order": null,
            "overflow": null,
            "overflow_x": null,
            "overflow_y": null,
            "padding": null,
            "right": null,
            "top": null,
            "visibility": null,
            "width": null
          }
        },
        "bb4ecab82ed845ed8d6a228a7f8e3de4": {
          "model_module": "@jupyter-widgets/controls",
          "model_name": "ButtonStyleModel",
          "model_module_version": "1.5.0",
          "state": {
            "_model_module": "@jupyter-widgets/controls",
            "_model_module_version": "1.5.0",
            "_model_name": "ButtonStyleModel",
            "_view_count": null,
            "_view_module": "@jupyter-widgets/base",
            "_view_module_version": "1.2.0",
            "_view_name": "StyleView",
            "button_color": null,
            "font_weight": ""
          }
        }
      }
    }
  },
  "cells": [
    {
      "cell_type": "markdown",
      "metadata": {
        "id": "view-in-github",
        "colab_type": "text"
      },
      "source": [
        "<a href=\"https://colab.research.google.com/github/cristinamunteanu/fastai/blob/main/bear_detector.ipynb\" target=\"_parent\"><img src=\"https://colab.research.google.com/assets/colab-badge.svg\" alt=\"Open In Colab\"/></a>"
      ]
    },
    {
      "cell_type": "code",
      "execution_count": null,
      "metadata": {
        "colab": {
          "base_uri": "https://localhost:8080/"
        },
        "id": "2qfBwsOwQdBp",
        "outputId": "62444e06-ef18-4267-ec31-eb4b5eae8558"
      },
      "outputs": [
        {
          "output_type": "stream",
          "name": "stdout",
          "text": [
            "\u001b[2K     \u001b[90m━━━━━━━━━━━━━━━━━━━━━━━━━━━━━━━━━━━━━━\u001b[0m \u001b[32m719.8/719.8 kB\u001b[0m \u001b[31m11.2 MB/s\u001b[0m eta \u001b[36m0:00:00\u001b[0m\n",
            "\u001b[2K     \u001b[90m━━━━━━━━━━━━━━━━━━━━━━━━━━━━━━━━━━━━━━━━\u001b[0m \u001b[32m7.2/7.2 MB\u001b[0m \u001b[31m60.9 MB/s\u001b[0m eta \u001b[36m0:00:00\u001b[0m\n",
            "\u001b[2K     \u001b[90m━━━━━━━━━━━━━━━━━━━━━━━━━━━━━━━━━━━━━━\u001b[0m \u001b[32m486.2/486.2 kB\u001b[0m \u001b[31m36.5 MB/s\u001b[0m eta \u001b[36m0:00:00\u001b[0m\n",
            "\u001b[2K     \u001b[90m━━━━━━━━━━━━━━━━━━━━━━━━━━━━━━━━━━━━━━━━\u001b[0m \u001b[32m1.3/1.3 MB\u001b[0m \u001b[31m51.0 MB/s\u001b[0m eta \u001b[36m0:00:00\u001b[0m\n",
            "\u001b[2K     \u001b[90m━━━━━━━━━━━━━━━━━━━━━━━━━━━━━━━━━━━━━━\u001b[0m \u001b[32m110.5/110.5 kB\u001b[0m \u001b[31m11.5 MB/s\u001b[0m eta \u001b[36m0:00:00\u001b[0m\n",
            "\u001b[2K     \u001b[90m━━━━━━━━━━━━━━━━━━━━━━━━━━━━━━━━━━━━━━\u001b[0m \u001b[32m212.5/212.5 kB\u001b[0m \u001b[31m21.8 MB/s\u001b[0m eta \u001b[36m0:00:00\u001b[0m\n",
            "\u001b[2K     \u001b[90m━━━━━━━━━━━━━━━━━━━━━━━━━━━━━━━━━━━━━━\u001b[0m \u001b[32m134.3/134.3 kB\u001b[0m \u001b[31m15.8 MB/s\u001b[0m eta \u001b[36m0:00:00\u001b[0m\n",
            "\u001b[2K     \u001b[90m━━━━━━━━━━━━━━━━━━━━━━━━━━━━━━━━━━━━━━\u001b[0m \u001b[32m236.8/236.8 kB\u001b[0m \u001b[31m23.0 MB/s\u001b[0m eta \u001b[36m0:00:00\u001b[0m\n",
            "\u001b[2K     \u001b[90m━━━━━━━━━━━━━━━━━━━━━━━━━━━━━━━━━━━━━━━━\u001b[0m \u001b[32m7.8/7.8 MB\u001b[0m \u001b[31m96.7 MB/s\u001b[0m eta \u001b[36m0:00:00\u001b[0m\n",
            "\u001b[2K     \u001b[90m━━━━━━━━━━━━━━━━━━━━━━━━━━━━━━━━━━━━━━━━\u001b[0m \u001b[32m1.3/1.3 MB\u001b[0m \u001b[31m50.7 MB/s\u001b[0m eta \u001b[36m0:00:00\u001b[0m\n",
            "\u001b[2K     \u001b[90m━━━━━━━━━━━━━━━━━━━━━━━━━━━━━━━━━━━━━━━━\u001b[0m \u001b[32m1.6/1.6 MB\u001b[0m \u001b[31m76.8 MB/s\u001b[0m eta \u001b[36m0:00:00\u001b[0m\n",
            "\u001b[?25hMounted at /content/gdrive\n"
          ]
        }
      ],
      "source": [
        "#hide\n",
        "! [ -e /content ] && pip install -Uqq fastbook\n",
        "import fastbook\n",
        "fastbook.setup_book()"
      ]
    },
    {
      "cell_type": "code",
      "execution_count": null,
      "metadata": {
        "id": "4eZ7dq1S6BZ_"
      },
      "outputs": [],
      "source": [
        "#hide\n",
        "from fastbook import *\n",
        "from fastai.vision.widgets import *"
      ]
    },
    {
      "cell_type": "code",
      "execution_count": null,
      "metadata": {
        "colab": {
          "base_uri": "https://localhost:8080/",
          "height": 49,
          "referenced_widgets": [
            "2f541fdad8204983a1a1166583b7b708",
            "03952bb531c54f9c928ba2ef6aa46377",
            "39d8f952bd8f49449039445c09778c06"
          ]
        },
        "id": "lmG-oWhs5Pe-",
        "outputId": "b3c90b9d-5b58-431d-c8e1-fd27975bdde9"
      },
      "outputs": [
        {
          "output_type": "display_data",
          "data": {
            "text/plain": [
              "FileUpload(value={}, description='Upload')"
            ],
            "application/vnd.jupyter.widget-view+json": {
              "version_major": 2,
              "version_minor": 0,
              "model_id": "2f541fdad8204983a1a1166583b7b708"
            }
          },
          "metadata": {}
        }
      ],
      "source": [
        "#hide_output\n",
        "btn_upload = widgets.FileUpload()\n",
        "btn_upload"
      ]
    },
    {
      "cell_type": "code",
      "source": [
        "#|export\n",
        "path = '/content/gdrive/My Drive/ml/fastai/c2/'"
      ],
      "metadata": {
        "id": "QBlQ2UZhIBjh"
      },
      "execution_count": null,
      "outputs": []
    },
    {
      "cell_type": "code",
      "source": [
        "#hide\n",
        "# For the book, we can't actually click an upload button, so we fake it\n",
        "btn_upload = SimpleNamespace(data = [path+'images/bears/grizzly.jpg'])"
      ],
      "metadata": {
        "id": "EwZC6HOO9KFf"
      },
      "execution_count": null,
      "outputs": []
    },
    {
      "cell_type": "code",
      "source": [
        "img = PILImage.create(btn_upload.data[-1])"
      ],
      "metadata": {
        "id": "qE9nNfAO9XFC"
      },
      "execution_count": null,
      "outputs": []
    },
    {
      "cell_type": "code",
      "source": [],
      "metadata": {
        "id": "HUZs6tq59qQd"
      },
      "execution_count": null,
      "outputs": []
    },
    {
      "cell_type": "code",
      "execution_count": null,
      "metadata": {
        "id": "OZfe9ym5QdCY",
        "colab": {
          "base_uri": "https://localhost:8080/",
          "height": 103,
          "referenced_widgets": [
            "5f572f30577a41d49f03c0bfe015c13e",
            "d3c2e003f64141a78abd78263f665c0a"
          ]
        },
        "outputId": "1c0f5ac3-e1c5-4ad7-c166-01cb56e4059d"
      },
      "outputs": [
        {
          "output_type": "display_data",
          "data": {
            "text/plain": [
              "Output()"
            ],
            "application/vnd.jupyter.widget-view+json": {
              "version_major": 2,
              "version_minor": 0,
              "model_id": "5f572f30577a41d49f03c0bfe015c13e"
            }
          },
          "metadata": {}
        }
      ],
      "source": [
        "#hide_output\n",
        "out_pl = widgets.Output()\n",
        "out_pl.clear_output()\n",
        "with out_pl: display(img.to_thumb(128,128))\n",
        "out_pl"
      ]
    },
    {
      "cell_type": "code",
      "source": [],
      "metadata": {
        "id": "AichinT--Czn"
      },
      "execution_count": null,
      "outputs": []
    },
    {
      "cell_type": "code",
      "execution_count": null,
      "metadata": {
        "id": "Y7_zYAHJQdCU"
      },
      "outputs": [],
      "source": [
        "learn_inf = load_learner(path+'/export.pkl')"
      ]
    },
    {
      "cell_type": "code",
      "execution_count": null,
      "metadata": {
        "id": "k1rRzighQdCZ",
        "outputId": "8ed398c5-88a5-4e56-e503-721e0c3c5a7c",
        "colab": {
          "base_uri": "https://localhost:8080/",
          "height": 17
        }
      },
      "outputs": [
        {
          "output_type": "display_data",
          "data": {
            "text/plain": [
              "<IPython.core.display.HTML object>"
            ],
            "text/html": [
              "\n",
              "<style>\n",
              "    /* Turns off some styling */\n",
              "    progress {\n",
              "        /* gets rid of default border in Firefox and Opera. */\n",
              "        border: none;\n",
              "        /* Needs to be in here for Safari polyfill so background images work as expected. */\n",
              "        background-size: auto;\n",
              "    }\n",
              "    progress:not([value]), progress:not([value])::-webkit-progress-bar {\n",
              "        background: repeating-linear-gradient(45deg, #7e7e7e, #7e7e7e 10px, #5c5c5c 10px, #5c5c5c 20px);\n",
              "    }\n",
              "    .progress-bar-interrupted, .progress-bar-interrupted::-webkit-progress-bar {\n",
              "        background: #F44336;\n",
              "    }\n",
              "</style>\n"
            ]
          },
          "metadata": {}
        },
        {
          "output_type": "display_data",
          "data": {
            "text/plain": [
              "<IPython.core.display.HTML object>"
            ],
            "text/html": []
          },
          "metadata": {}
        }
      ],
      "source": [
        "pred,pred_idx,probs = learn_inf.predict(img)"
      ]
    },
    {
      "cell_type": "code",
      "execution_count": null,
      "metadata": {
        "colab": {
          "base_uri": "https://localhost:8080/",
          "height": 49,
          "referenced_widgets": [
            "066e0b43674e4c108f92ae0ab4a6e5e6",
            "687de8d9f8984a558cf218d883b4aa8f",
            "fbce8cbbf833406f84194cb2e31b43a1"
          ]
        },
        "id": "sNzMha3uQdCZ",
        "outputId": "b8f6df93-61b7-49d1-8928-97bf54236c06"
      },
      "outputs": [
        {
          "output_type": "display_data",
          "data": {
            "text/plain": [
              "Label(value='Prediction: grizzly; Probability: 0.9998')"
            ],
            "application/vnd.jupyter.widget-view+json": {
              "version_major": 2,
              "version_minor": 0,
              "model_id": "066e0b43674e4c108f92ae0ab4a6e5e6"
            }
          },
          "metadata": {}
        }
      ],
      "source": [
        "#hide_output\n",
        "lbl_pred = widgets.Label()\n",
        "lbl_pred.value = f'Prediction: {pred}; Probability: {probs[pred_idx]:.04f}'\n",
        "lbl_pred"
      ]
    },
    {
      "cell_type": "code",
      "execution_count": null,
      "metadata": {
        "colab": {
          "base_uri": "https://localhost:8080/",
          "height": 49,
          "referenced_widgets": [
            "0c88ff57c45e45aa88ca1c07426e041e",
            "65510b54002e48e7a3a3a5d17085863d",
            "f781bb5052bb4658bd42c9809c51e87a"
          ]
        },
        "id": "E0VTUd3dQdCZ",
        "outputId": "0ca98448-4ad3-4e3c-e660-6fdb698aae09"
      },
      "outputs": [
        {
          "output_type": "display_data",
          "data": {
            "text/plain": [
              "Button(description='Classify', style=ButtonStyle())"
            ],
            "application/vnd.jupyter.widget-view+json": {
              "version_major": 2,
              "version_minor": 0,
              "model_id": "0c88ff57c45e45aa88ca1c07426e041e"
            }
          },
          "metadata": {}
        }
      ],
      "source": [
        "#hide_output\n",
        "btn_run = widgets.Button(description='Classify')\n",
        "btn_run"
      ]
    },
    {
      "cell_type": "code",
      "execution_count": null,
      "metadata": {
        "id": "VQnKSHFIQdCa"
      },
      "outputs": [],
      "source": [
        "def on_click_classify(change):\n",
        "    img = PILImage.create(btn_upload.data[-1])\n",
        "    out_pl.clear_output()\n",
        "    with out_pl: display(img.to_thumb(128,128))\n",
        "    pred,pred_idx,probs = learn_inf.predict(img)\n",
        "    lbl_pred.value = f'Prediction: {pred}; Probability: {probs[pred_idx]:.04f}'\n",
        "\n",
        "btn_run.on_click(on_click_classify)"
      ]
    },
    {
      "cell_type": "code",
      "execution_count": null,
      "metadata": {
        "id": "rKVNKGiyQdCa"
      },
      "outputs": [],
      "source": [
        "#hide\n",
        "#Putting back btn_upload to a widget for next cell\n",
        "btn_upload = widgets.FileUpload()"
      ]
    },
    {
      "cell_type": "code",
      "execution_count": null,
      "metadata": {
        "colab": {
          "base_uri": "https://localhost:8080/",
          "height": 231,
          "referenced_widgets": [
            "9633dde0808149c49046e265a1d196bb",
            "cb6a395cdc1c4d339327b06e8e879b3c",
            "896b37b8774e475886e0dfad8c10efa3",
            "0c88ff57c45e45aa88ca1c07426e041e",
            "5f572f30577a41d49f03c0bfe015c13e",
            "066e0b43674e4c108f92ae0ab4a6e5e6",
            "aec29dd673b24793ba2bde8677011276",
            "13451d71510c4d1799259cf5628d53e2",
            "81e32b3aae2941e6a52fd898c452c093",
            "01d701d63a4747f3a47a239a932a08f1",
            "bb4ecab82ed845ed8d6a228a7f8e3de4",
            "65510b54002e48e7a3a3a5d17085863d",
            "f781bb5052bb4658bd42c9809c51e87a",
            "687de8d9f8984a558cf218d883b4aa8f",
            "fbce8cbbf833406f84194cb2e31b43a1",
            "d3c2e003f64141a78abd78263f665c0a"
          ]
        },
        "id": "UiZ8JELjQdCa",
        "outputId": "492afb43-e70a-4714-afe6-426878b44dc5"
      },
      "outputs": [
        {
          "output_type": "display_data",
          "data": {
            "text/plain": [
              "VBox(children=(Label(value='Select your bear!'), FileUpload(value={}, description='Upload'), Button(descriptio…"
            ],
            "application/vnd.jupyter.widget-view+json": {
              "version_major": 2,
              "version_minor": 0,
              "model_id": "9633dde0808149c49046e265a1d196bb"
            }
          },
          "metadata": {}
        },
        {
          "output_type": "display_data",
          "data": {
            "text/plain": [
              "<IPython.core.display.HTML object>"
            ],
            "text/html": [
              "\n",
              "<style>\n",
              "    /* Turns off some styling */\n",
              "    progress {\n",
              "        /* gets rid of default border in Firefox and Opera. */\n",
              "        border: none;\n",
              "        /* Needs to be in here for Safari polyfill so background images work as expected. */\n",
              "        background-size: auto;\n",
              "    }\n",
              "    progress:not([value]), progress:not([value])::-webkit-progress-bar {\n",
              "        background: repeating-linear-gradient(45deg, #7e7e7e, #7e7e7e 10px, #5c5c5c 10px, #5c5c5c 20px);\n",
              "    }\n",
              "    .progress-bar-interrupted, .progress-bar-interrupted::-webkit-progress-bar {\n",
              "        background: #F44336;\n",
              "    }\n",
              "</style>\n"
            ]
          },
          "metadata": {}
        },
        {
          "output_type": "display_data",
          "data": {
            "text/plain": [
              "<IPython.core.display.HTML object>"
            ],
            "text/html": []
          },
          "metadata": {}
        }
      ],
      "source": [
        "#hide_output\n",
        "VBox([widgets.Label('Select your bear!'),\n",
        "      btn_upload, btn_run, out_pl, lbl_pred])"
      ]
    },
    {
      "cell_type": "code",
      "source": [],
      "metadata": {
        "id": "MiEDEznvBh8Z"
      },
      "execution_count": null,
      "outputs": []
    }
  ]
}